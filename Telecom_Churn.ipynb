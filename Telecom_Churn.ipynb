{
  "nbformat": 4,
  "nbformat_minor": 0,
  "metadata": {
    "colab": {
      "name": "Telecom Churn.ipynb",
      "provenance": []
    },
    "kernelspec": {
      "name": "python3",
      "display_name": "Python 3"
    },
    "language_info": {
      "name": "python"
    }
  },
  "cells": [
    {
      "cell_type": "code",
      "metadata": {
        "colab": {
          "base_uri": "https://localhost:8080/"
        },
        "id": "1WlKxIAkrmbN",
        "outputId": "03e5cfee-4c3a-4ee4-e183-9c8d66a378b8"
      },
      "source": [
        "pip install gamma-facet"
      ],
      "execution_count": 6,
      "outputs": [
        {
          "output_type": "stream",
          "text": [
            "Requirement already satisfied: gamma-facet in /usr/local/lib/python3.7/dist-packages (1.1.0)\n",
            "Requirement already satisfied: lightgbm>=3.0 in /usr/local/lib/python3.7/dist-packages (from gamma-facet) (3.2.1)\n",
            "Requirement already satisfied: matplotlib<3.4,>=3.0 in /usr/local/lib/python3.7/dist-packages (from gamma-facet) (3.2.2)\n",
            "Requirement already satisfied: numpy<1.21,>=1.16 in /usr/local/lib/python3.7/dist-packages (from gamma-facet) (1.19.5)\n",
            "Requirement already satisfied: scikit-learn<0.24,>=0.21 in /usr/local/lib/python3.7/dist-packages (from gamma-facet) (0.22.2.post1)\n",
            "Requirement already satisfied: ipython>=7 in /usr/local/lib/python3.7/dist-packages (from gamma-facet) (7.27.0)\n",
            "Requirement already satisfied: pandas<1.3,>=0.24 in /usr/local/lib/python3.7/dist-packages (from gamma-facet) (1.1.5)\n",
            "Requirement already satisfied: gamma-pytools<2,>=1.1 in /usr/local/lib/python3.7/dist-packages (from gamma-facet) (1.2.2)\n",
            "Requirement already satisfied: packaging>=20 in /usr/local/lib/python3.7/dist-packages (from gamma-facet) (21.0)\n",
            "Requirement already satisfied: boruta>=0.3 in /usr/local/lib/python3.7/dist-packages (from gamma-facet) (0.3)\n",
            "Requirement already satisfied: typing_inspect<0.7,>=0.4 in /usr/local/lib/python3.7/dist-packages (from gamma-facet) (0.6.0)\n",
            "Requirement already satisfied: shap<0.40,>=0.34 in /usr/local/lib/python3.7/dist-packages (from gamma-facet) (0.39.0)\n",
            "Requirement already satisfied: scipy<1.6,>=1.2 in /usr/local/lib/python3.7/dist-packages (from gamma-facet) (1.4.1)\n",
            "Requirement already satisfied: sklearndf<2,>=1.1 in /usr/local/lib/python3.7/dist-packages (from gamma-facet) (1.2.1)\n",
            "Requirement already satisfied: joblib<1.1,>=0.14 in /usr/local/lib/python3.7/dist-packages (from gamma-facet) (1.0.1)\n",
            "Requirement already satisfied: prompt-toolkit!=3.0.0,!=3.0.1,<3.1.0,>=2.0.0 in /usr/local/lib/python3.7/dist-packages (from ipython>=7->gamma-facet) (3.0.20)\n",
            "Requirement already satisfied: backcall in /usr/local/lib/python3.7/dist-packages (from ipython>=7->gamma-facet) (0.2.0)\n",
            "Requirement already satisfied: setuptools>=18.5 in /usr/local/lib/python3.7/dist-packages (from ipython>=7->gamma-facet) (57.4.0)\n",
            "Requirement already satisfied: traitlets>=4.2 in /usr/local/lib/python3.7/dist-packages (from ipython>=7->gamma-facet) (5.0.5)\n",
            "Requirement already satisfied: pygments in /usr/local/lib/python3.7/dist-packages (from ipython>=7->gamma-facet) (2.6.1)\n",
            "Requirement already satisfied: pickleshare in /usr/local/lib/python3.7/dist-packages (from ipython>=7->gamma-facet) (0.7.5)\n",
            "Requirement already satisfied: matplotlib-inline in /usr/local/lib/python3.7/dist-packages (from ipython>=7->gamma-facet) (0.1.2)\n",
            "Requirement already satisfied: decorator in /usr/local/lib/python3.7/dist-packages (from ipython>=7->gamma-facet) (4.4.2)\n",
            "Requirement already satisfied: pexpect>4.3 in /usr/local/lib/python3.7/dist-packages (from ipython>=7->gamma-facet) (4.8.0)\n",
            "Requirement already satisfied: jedi>=0.16 in /usr/local/lib/python3.7/dist-packages (from ipython>=7->gamma-facet) (0.18.0)\n",
            "Requirement already satisfied: parso<0.9.0,>=0.8.0 in /usr/local/lib/python3.7/dist-packages (from jedi>=0.16->ipython>=7->gamma-facet) (0.8.2)\n",
            "Requirement already satisfied: wheel in /usr/local/lib/python3.7/dist-packages (from lightgbm>=3.0->gamma-facet) (0.37.0)\n",
            "Requirement already satisfied: python-dateutil>=2.1 in /usr/local/lib/python3.7/dist-packages (from matplotlib<3.4,>=3.0->gamma-facet) (2.8.2)\n",
            "Requirement already satisfied: pyparsing!=2.0.4,!=2.1.2,!=2.1.6,>=2.0.1 in /usr/local/lib/python3.7/dist-packages (from matplotlib<3.4,>=3.0->gamma-facet) (2.4.7)\n",
            "Requirement already satisfied: kiwisolver>=1.0.1 in /usr/local/lib/python3.7/dist-packages (from matplotlib<3.4,>=3.0->gamma-facet) (1.3.1)\n",
            "Requirement already satisfied: cycler>=0.10 in /usr/local/lib/python3.7/dist-packages (from matplotlib<3.4,>=3.0->gamma-facet) (0.10.0)\n",
            "Requirement already satisfied: six in /usr/local/lib/python3.7/dist-packages (from cycler>=0.10->matplotlib<3.4,>=3.0->gamma-facet) (1.15.0)\n",
            "Requirement already satisfied: pytz>=2017.2 in /usr/local/lib/python3.7/dist-packages (from pandas<1.3,>=0.24->gamma-facet) (2018.9)\n",
            "Requirement already satisfied: ptyprocess>=0.5 in /usr/local/lib/python3.7/dist-packages (from pexpect>4.3->ipython>=7->gamma-facet) (0.7.0)\n",
            "Requirement already satisfied: wcwidth in /usr/local/lib/python3.7/dist-packages (from prompt-toolkit!=3.0.0,!=3.0.1,<3.1.0,>=2.0.0->ipython>=7->gamma-facet) (0.2.5)\n",
            "Requirement already satisfied: numba in /usr/local/lib/python3.7/dist-packages (from shap<0.40,>=0.34->gamma-facet) (0.51.2)\n",
            "Requirement already satisfied: cloudpickle in /usr/local/lib/python3.7/dist-packages (from shap<0.40,>=0.34->gamma-facet) (1.3.0)\n",
            "Requirement already satisfied: slicer==0.0.7 in /usr/local/lib/python3.7/dist-packages (from shap<0.40,>=0.34->gamma-facet) (0.0.7)\n",
            "Requirement already satisfied: tqdm>4.25.0 in /usr/local/lib/python3.7/dist-packages (from shap<0.40,>=0.34->gamma-facet) (4.62.0)\n",
            "Requirement already satisfied: ipython-genutils in /usr/local/lib/python3.7/dist-packages (from traitlets>=4.2->ipython>=7->gamma-facet) (0.2.0)\n",
            "Requirement already satisfied: typing-extensions>=3.7.4 in /usr/local/lib/python3.7/dist-packages (from typing_inspect<0.7,>=0.4->gamma-facet) (3.7.4.3)\n",
            "Requirement already satisfied: mypy-extensions>=0.3.0 in /usr/local/lib/python3.7/dist-packages (from typing_inspect<0.7,>=0.4->gamma-facet) (0.4.3)\n",
            "Requirement already satisfied: llvmlite<0.35,>=0.34.0.dev0 in /usr/local/lib/python3.7/dist-packages (from numba->shap<0.40,>=0.34->gamma-facet) (0.34.0)\n"
          ],
          "name": "stdout"
        }
      ]
    },
    {
      "cell_type": "code",
      "metadata": {
        "colab": {
          "resources": {
            "http://localhost:8080/nbextensions/google.colab/files.js": {
              "data": "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",
              "ok": true,
              "headers": [
                [
                  "content-type",
                  "application/javascript"
                ]
              ],
              "status": 200,
              "status_text": ""
            }
          },
          "base_uri": "https://localhost:8080/",
          "height": 72
        },
        "id": "o-5Ql__hlh4n",
        "outputId": "d6ee059f-b61d-4b65-a781-aec8e92b2f71"
      },
      "source": [
        "from google.colab import files\n",
        "uploaded = files.upload()"
      ],
      "execution_count": 5,
      "outputs": [
        {
          "output_type": "display_data",
          "data": {
            "text/html": [
              "\n",
              "     <input type=\"file\" id=\"files-ebaaff87-2f1b-4b23-a63c-e6d6238c8ed4\" name=\"files[]\" multiple disabled\n",
              "        style=\"border:none\" />\n",
              "     <output id=\"result-ebaaff87-2f1b-4b23-a63c-e6d6238c8ed4\">\n",
              "      Upload widget is only available when the cell has been executed in the\n",
              "      current browser session. Please rerun this cell to enable.\n",
              "      </output>\n",
              "      <script src=\"/nbextensions/google.colab/files.js\"></script> "
            ],
            "text/plain": [
              "<IPython.core.display.HTML object>"
            ]
          },
          "metadata": {}
        },
        {
          "output_type": "stream",
          "text": [
            "Saving WA_Fn-UseC_-Telco-Customer-Churn.csv to WA_Fn-UseC_-Telco-Customer-Churn (2).csv\n"
          ],
          "name": "stdout"
        }
      ]
    },
    {
      "cell_type": "code",
      "metadata": {
        "id": "J-LhevMZmLVV"
      },
      "source": [
        "import numpy as np\n",
        "import pandas as pd\n",
        "from numpy import interp\n",
        "import matplotlib.pylab as plt\n",
        "\n",
        "from sklearn.metrics import (\n",
        "    classification_report,\n",
        "    confusion_matrix,\n",
        "    roc_curve,\n",
        "    roc_auc_score,\n",
        "    auc,\n",
        "    accuracy_score,\n",
        "    f1_score,\n",
        "    precision_score,\n",
        "    recall_score,\n",
        "    precision_recall_curve,\n",
        "    ConfusionMatrixDisplay,\n",
        "    PrecisionRecallDisplay,\n",
        ")\n",
        "from sklearn.compose import make_column_selector\n",
        "from sklearn.model_selection import RepeatedKFold"
      ],
      "execution_count": 7,
      "outputs": []
    },
    {
      "cell_type": "code",
      "metadata": {
        "id": "TWKtO0uCr8zn"
      },
      "source": [
        "import pandas as pd\n",
        "import numpy as np\n",
        "import io\n",
        "churn_df = pd.read_csv(io.BytesIO(uploaded['WA_Fn-UseC_-Telco-Customer-Churn.csv']))"
      ],
      "execution_count": 8,
      "outputs": []
    },
    {
      "cell_type": "code",
      "metadata": {
        "colab": {
          "base_uri": "https://localhost:8080/",
          "height": 213
        },
        "id": "CRNgVWzZslFq",
        "outputId": "6be51251-2b3d-4c0e-c93f-ed8c80c8559a"
      },
      "source": [
        "churn_df.head(3)"
      ],
      "execution_count": 9,
      "outputs": [
        {
          "output_type": "execute_result",
          "data": {
            "text/html": [
              "<div>\n",
              "<style scoped>\n",
              "    .dataframe tbody tr th:only-of-type {\n",
              "        vertical-align: middle;\n",
              "    }\n",
              "\n",
              "    .dataframe tbody tr th {\n",
              "        vertical-align: top;\n",
              "    }\n",
              "\n",
              "    .dataframe thead th {\n",
              "        text-align: right;\n",
              "    }\n",
              "</style>\n",
              "<table border=\"1\" class=\"dataframe\">\n",
              "  <thead>\n",
              "    <tr style=\"text-align: right;\">\n",
              "      <th></th>\n",
              "      <th>customerID</th>\n",
              "      <th>gender</th>\n",
              "      <th>SeniorCitizen</th>\n",
              "      <th>Partner</th>\n",
              "      <th>Dependents</th>\n",
              "      <th>tenure</th>\n",
              "      <th>PhoneService</th>\n",
              "      <th>MultipleLines</th>\n",
              "      <th>InternetService</th>\n",
              "      <th>OnlineSecurity</th>\n",
              "      <th>OnlineBackup</th>\n",
              "      <th>DeviceProtection</th>\n",
              "      <th>TechSupport</th>\n",
              "      <th>StreamingTV</th>\n",
              "      <th>StreamingMovies</th>\n",
              "      <th>Contract</th>\n",
              "      <th>PaperlessBilling</th>\n",
              "      <th>PaymentMethod</th>\n",
              "      <th>MonthlyCharges</th>\n",
              "      <th>TotalCharges</th>\n",
              "      <th>Churn</th>\n",
              "    </tr>\n",
              "  </thead>\n",
              "  <tbody>\n",
              "    <tr>\n",
              "      <th>0</th>\n",
              "      <td>7590-VHVEG</td>\n",
              "      <td>Female</td>\n",
              "      <td>0</td>\n",
              "      <td>Yes</td>\n",
              "      <td>No</td>\n",
              "      <td>1</td>\n",
              "      <td>No</td>\n",
              "      <td>No phone service</td>\n",
              "      <td>DSL</td>\n",
              "      <td>No</td>\n",
              "      <td>Yes</td>\n",
              "      <td>No</td>\n",
              "      <td>No</td>\n",
              "      <td>No</td>\n",
              "      <td>No</td>\n",
              "      <td>Month-to-month</td>\n",
              "      <td>Yes</td>\n",
              "      <td>Electronic check</td>\n",
              "      <td>29.85</td>\n",
              "      <td>29.85</td>\n",
              "      <td>No</td>\n",
              "    </tr>\n",
              "    <tr>\n",
              "      <th>1</th>\n",
              "      <td>5575-GNVDE</td>\n",
              "      <td>Male</td>\n",
              "      <td>0</td>\n",
              "      <td>No</td>\n",
              "      <td>No</td>\n",
              "      <td>34</td>\n",
              "      <td>Yes</td>\n",
              "      <td>No</td>\n",
              "      <td>DSL</td>\n",
              "      <td>Yes</td>\n",
              "      <td>No</td>\n",
              "      <td>Yes</td>\n",
              "      <td>No</td>\n",
              "      <td>No</td>\n",
              "      <td>No</td>\n",
              "      <td>One year</td>\n",
              "      <td>No</td>\n",
              "      <td>Mailed check</td>\n",
              "      <td>56.95</td>\n",
              "      <td>1889.5</td>\n",
              "      <td>No</td>\n",
              "    </tr>\n",
              "    <tr>\n",
              "      <th>2</th>\n",
              "      <td>3668-QPYBK</td>\n",
              "      <td>Male</td>\n",
              "      <td>0</td>\n",
              "      <td>No</td>\n",
              "      <td>No</td>\n",
              "      <td>2</td>\n",
              "      <td>Yes</td>\n",
              "      <td>No</td>\n",
              "      <td>DSL</td>\n",
              "      <td>Yes</td>\n",
              "      <td>Yes</td>\n",
              "      <td>No</td>\n",
              "      <td>No</td>\n",
              "      <td>No</td>\n",
              "      <td>No</td>\n",
              "      <td>Month-to-month</td>\n",
              "      <td>Yes</td>\n",
              "      <td>Mailed check</td>\n",
              "      <td>53.85</td>\n",
              "      <td>108.15</td>\n",
              "      <td>Yes</td>\n",
              "    </tr>\n",
              "  </tbody>\n",
              "</table>\n",
              "</div>"
            ],
            "text/plain": [
              "   customerID  gender  SeniorCitizen  ... MonthlyCharges TotalCharges  Churn\n",
              "0  7590-VHVEG  Female              0  ...          29.85        29.85     No\n",
              "1  5575-GNVDE    Male              0  ...          56.95       1889.5     No\n",
              "2  3668-QPYBK    Male              0  ...          53.85       108.15    Yes\n",
              "\n",
              "[3 rows x 21 columns]"
            ]
          },
          "metadata": {},
          "execution_count": 9
        }
      ]
    },
    {
      "cell_type": "code",
      "metadata": {
        "id": "HBBomvr6l8ot"
      },
      "source": [
        "from facet.data import Sample\n",
        "from facet.selection import LearnerRanker, LearnerGrid\n",
        "from facet.crossfit import LearnerCrossfit"
      ],
      "execution_count": 10,
      "outputs": []
    },
    {
      "cell_type": "code",
      "metadata": {
        "colab": {
          "base_uri": "https://localhost:8080/",
          "height": 35
        },
        "id": "sZxa_cOUmAn0",
        "outputId": "96b7afa4-6f2b-4ab4-c48f-cc5383e37969"
      },
      "source": [
        "churn_df = churn_df.drop(columns=['customerID'])\n",
        "\n",
        "# TotalCharges needs to be float (known to have a few missing values)\n",
        "churn_df.TotalCharges = pd.to_numeric(churn_df.TotalCharges, errors='coerce')\n",
        "\n",
        "# To support preprocessing pipeline we will also convert SeniorCitizen to object type\n",
        "# only tenure, MonthlyCharges and TotalCharges are numeric\n",
        "churn_df.SeniorCitizen = churn_df.SeniorCitizen.astype(str)\n",
        "\n",
        "# Create a new 0/1 target where 1=churn\n",
        "churn_df.Churn = churn_df.Churn.map(dict(Yes=1, No=0))\n",
        "\n",
        "# create sample object\n",
        "churn_sample = Sample(\n",
        "    observations=churn_df,\n",
        "    feature_names=churn_df.drop(columns=[\"Churn\"]).columns,\n",
        "    target_name=\"Churn\",\n",
        ")\n",
        "\n",
        "# check target name\n",
        "churn_sample.target_name"
      ],
      "execution_count": 11,
      "outputs": [
        {
          "output_type": "execute_result",
          "data": {
            "application/vnd.google.colaboratory.intrinsic+json": {
              "type": "string"
            },
            "text/plain": [
              "'Churn'"
            ]
          },
          "metadata": {},
          "execution_count": 11
        }
      ]
    },
    {
      "cell_type": "code",
      "metadata": {
        "colab": {
          "base_uri": "https://localhost:8080/"
        },
        "id": "zG78-NInsrKi",
        "outputId": "a54b5a44-ea2a-4fa2-d6c9-d091415405c0"
      },
      "source": [
        "pip install sklearndf"
      ],
      "execution_count": 20,
      "outputs": [
        {
          "output_type": "stream",
          "text": [
            "Requirement already satisfied: sklearndf in /usr/local/lib/python3.7/dist-packages (1.2.1)\n",
            "Requirement already satisfied: pandas<2a,>=0.24 in /usr/local/lib/python3.7/dist-packages (from sklearndf) (1.1.5)\n",
            "Requirement already satisfied: packaging>=20 in /usr/local/lib/python3.7/dist-packages (from sklearndf) (21.0)\n",
            "Requirement already satisfied: gamma-pytools~=1.2 in /usr/local/lib/python3.7/dist-packages (from sklearndf) (1.2.2)\n",
            "Requirement already satisfied: numpy<2a,>=1.16 in /usr/local/lib/python3.7/dist-packages (from sklearndf) (1.19.5)\n",
            "Requirement already satisfied: boruta~=0.3 in /usr/local/lib/python3.7/dist-packages (from sklearndf) (0.3)\n",
            "Requirement already satisfied: scikit-learn<0.25a,>=0.21 in /usr/local/lib/python3.7/dist-packages (from sklearndf) (0.22.2.post1)\n",
            "Requirement already satisfied: lightgbm~=3.0 in /usr/local/lib/python3.7/dist-packages (from sklearndf) (3.2.1)\n",
            "Requirement already satisfied: scipy~=1.2 in /usr/local/lib/python3.7/dist-packages (from sklearndf) (1.4.1)\n",
            "Requirement already satisfied: joblib<2a,>=0.14 in /usr/local/lib/python3.7/dist-packages (from gamma-pytools~=1.2->sklearndf) (1.0.1)\n",
            "Requirement already satisfied: typing_inspect~=0.4 in /usr/local/lib/python3.7/dist-packages (from gamma-pytools~=1.2->sklearndf) (0.6.0)\n",
            "Requirement already satisfied: matplotlib~=3.0 in /usr/local/lib/python3.7/dist-packages (from gamma-pytools~=1.2->sklearndf) (3.2.2)\n",
            "Requirement already satisfied: wheel in /usr/local/lib/python3.7/dist-packages (from lightgbm~=3.0->sklearndf) (0.37.0)\n",
            "Requirement already satisfied: python-dateutil>=2.1 in /usr/local/lib/python3.7/dist-packages (from matplotlib~=3.0->gamma-pytools~=1.2->sklearndf) (2.8.2)\n",
            "Requirement already satisfied: kiwisolver>=1.0.1 in /usr/local/lib/python3.7/dist-packages (from matplotlib~=3.0->gamma-pytools~=1.2->sklearndf) (1.3.1)\n",
            "Requirement already satisfied: pyparsing!=2.0.4,!=2.1.2,!=2.1.6,>=2.0.1 in /usr/local/lib/python3.7/dist-packages (from matplotlib~=3.0->gamma-pytools~=1.2->sklearndf) (2.4.7)\n",
            "Requirement already satisfied: cycler>=0.10 in /usr/local/lib/python3.7/dist-packages (from matplotlib~=3.0->gamma-pytools~=1.2->sklearndf) (0.10.0)\n",
            "Requirement already satisfied: six in /usr/local/lib/python3.7/dist-packages (from cycler>=0.10->matplotlib~=3.0->gamma-pytools~=1.2->sklearndf) (1.15.0)\n",
            "Requirement already satisfied: pytz>=2017.2 in /usr/local/lib/python3.7/dist-packages (from pandas<2a,>=0.24->sklearndf) (2018.9)\n",
            "Requirement already satisfied: typing-extensions>=3.7.4 in /usr/local/lib/python3.7/dist-packages (from typing_inspect~=0.4->gamma-pytools~=1.2->sklearndf) (3.7.4.3)\n",
            "Requirement already satisfied: mypy-extensions>=0.3.0 in /usr/local/lib/python3.7/dist-packages (from typing_inspect~=0.4->gamma-pytools~=1.2->sklearndf) (0.4.3)\n"
          ],
          "name": "stdout"
        }
      ]
    },
    {
      "cell_type": "code",
      "metadata": {
        "id": "SKPXFaM8sxs7"
      },
      "source": [
        "from sklearn.compose import make_column_selector\n",
        "from sklearndf.transformation import ColumnTransformerDF\n",
        "from sklearndf.transformation import SimpleImputerDF\n",
        "from sklearndf.transformation import OneHotEncoderDF\n",
        "from sklearndf.pipeline import PipelineDF\n",
        "\n",
        "\n",
        "from sklearndf.pipeline import PipelineDF, ClassifierPipelineDF\n",
        "from sklearndf.classification import RandomForestClassifierDF\n",
        "from sklearndf.transformation import (\n",
        "    ColumnTransformerDF,\n",
        "    OneHotEncoderDF,\n",
        "    SimpleImputerDF,\n",
        ")\n",
        "from sklearndf.transformation.extra import BorutaDF\n"
      ],
      "execution_count": 12,
      "outputs": []
    },
    {
      "cell_type": "code",
      "metadata": {
        "id": "F3a6Z1gEuCez"
      },
      "source": [
        "preprocessing_categorical = PipelineDF(\n",
        "    steps = [\n",
        "            (\"imputer\", SimpleImputerDF(strategy=\"most_frequent\",fill_value=\"<na>\")),\n",
        "            (\"one-hot\",OneHotEncoderDF(sparse=False, handle_unknown=\"ignore\")),\n",
        "    ]\n",
        ")\n",
        "\n",
        "preprocessing_numerical = SimpleImputerDF(strategy=\"median\")"
      ],
      "execution_count": 13,
      "outputs": []
    },
    {
      "cell_type": "code",
      "metadata": {
        "id": "ilc4wzcWvai1"
      },
      "source": [
        "preprocessing_features = ColumnTransformerDF(\n",
        "    transformers = [\n",
        "                    (\n",
        "                        \"categorcial\",\n",
        "                     preprocessing_categorical,\n",
        "                     make_column_selector(dtype_include=\"object\")\n",
        "                    ),\n",
        "                    (\n",
        "                        \"numerical\",\n",
        "                     preprocessing_numerical,\n",
        "                     make_column_selector(dtype_include=np.number),\n",
        "                    ),\n",
        "    ]\n",
        ")"
      ],
      "execution_count": 14,
      "outputs": []
    },
    {
      "cell_type": "code",
      "metadata": {
        "colab": {
          "base_uri": "https://localhost:8080/"
        },
        "id": "9Lz5SLhvyEiA",
        "outputId": "8a17b46f-d77b-47fd-eade-869f7d54df6b"
      },
      "source": [
        "boruta_feature_selection = PipelineDF(\n",
        "    steps=[\n",
        "        (\"preprocessing\", preprocessing_features),\n",
        "        (\n",
        "            \"boruta\",\n",
        "            BorutaDF(\n",
        "                estimator=RandomForestClassifierDF(\n",
        "                    max_depth=5, n_jobs=-3, random_state=42\n",
        "                ),\n",
        "                n_estimators=\"auto\",\n",
        "                random_state=42,\n",
        "                verbose=False,\n",
        "            ),\n",
        "        ),\n",
        "    ]\n",
        ")\n",
        "\n",
        "# run feature selection using Boruta and report those selected\n",
        "boruta_feature_selection.fit(X=churn_sample.features, y=churn_sample.target)\n",
        "selected = boruta_feature_selection.feature_names_original_.unique()\n",
        "selected"
      ],
      "execution_count": 15,
      "outputs": [
        {
          "output_type": "execute_result",
          "data": {
            "text/plain": [
              "array(['InternetService', 'OnlineSecurity', 'OnlineBackup',\n",
              "       'DeviceProtection', 'TechSupport', 'StreamingTV',\n",
              "       'StreamingMovies', 'Contract', 'PaperlessBilling', 'PaymentMethod',\n",
              "       'tenure', 'MonthlyCharges', 'TotalCharges'], dtype=object)"
            ]
          },
          "metadata": {},
          "execution_count": 15
        }
      ]
    },
    {
      "cell_type": "code",
      "metadata": {
        "id": "uLo5ziWUsiBd"
      },
      "source": [
        "churn_sample_kept_features = churn_sample.keep(feature_names=selected)"
      ],
      "execution_count": 16,
      "outputs": []
    },
    {
      "cell_type": "code",
      "metadata": {
        "id": "Xofq11vlt9gt"
      },
      "source": [
        "rforest_clf = ClassifierPipelineDF(\n",
        "    preprocessing=preprocessing_features,\n",
        "    classifier = RandomForestClassifierDF(random_state=42)\n",
        ")"
      ],
      "execution_count": 17,
      "outputs": []
    },
    {
      "cell_type": "code",
      "metadata": {
        "id": "JlmwTCAUueE5"
      },
      "source": [
        "classifier_grid = [\n",
        "                   LearnerGrid(\n",
        "                       pipeline = rforest_clf,\n",
        "                       learner_parameters={\"max_depth\": [4, 8], \"n_estimators\": [200,500]},\n",
        "                   )\n",
        "]"
      ],
      "execution_count": 22,
      "outputs": []
    },
    {
      "cell_type": "code",
      "metadata": {
        "id": "tctmQFfYu0-5"
      },
      "source": [
        "clf_ranker = LearnerRanker(\n",
        "    grids=classifier_grid,\n",
        "    cv = RepeatedKFold(n_splits=5, n_repeats=10, random_state=42),\n",
        "    n_jobs=-3,\n",
        "    scoring=\"roc_auc\").fit(churn_sample_kept_features)"
      ],
      "execution_count": 23,
      "outputs": []
    },
    {
      "cell_type": "code",
      "metadata": {
        "colab": {
          "base_uri": "https://localhost:8080/",
          "height": 235
        },
        "id": "71Wdp5-kvHq9",
        "outputId": "57faed9a-df66-4d71-c307-f60311860e48"
      },
      "source": [
        "clf_ranker.summary_report()"
      ],
      "execution_count": 24,
      "outputs": [
        {
          "output_type": "execute_result",
          "data": {
            "text/html": [
              "<div>\n",
              "<style scoped>\n",
              "    .dataframe tbody tr th:only-of-type {\n",
              "        vertical-align: middle;\n",
              "    }\n",
              "\n",
              "    .dataframe tbody tr th {\n",
              "        vertical-align: top;\n",
              "    }\n",
              "\n",
              "    .dataframe thead tr th {\n",
              "        text-align: left;\n",
              "    }\n",
              "\n",
              "    .dataframe thead tr:last-of-type th {\n",
              "        text-align: right;\n",
              "    }\n",
              "</style>\n",
              "<table border=\"1\" class=\"dataframe\">\n",
              "  <thead>\n",
              "    <tr>\n",
              "      <th></th>\n",
              "      <th>ranking_score</th>\n",
              "      <th colspan=\"2\" halign=\"left\">roc_auc</th>\n",
              "      <th colspan=\"3\" halign=\"left\">classifier</th>\n",
              "    </tr>\n",
              "    <tr>\n",
              "      <th></th>\n",
              "      <th></th>\n",
              "      <th>mean</th>\n",
              "      <th>std</th>\n",
              "      <th>type</th>\n",
              "      <th>max_depth</th>\n",
              "      <th>n_estimators</th>\n",
              "    </tr>\n",
              "    <tr>\n",
              "      <th>rank</th>\n",
              "      <th></th>\n",
              "      <th></th>\n",
              "      <th></th>\n",
              "      <th></th>\n",
              "      <th></th>\n",
              "      <th></th>\n",
              "    </tr>\n",
              "  </thead>\n",
              "  <tbody>\n",
              "    <tr>\n",
              "      <th>0</th>\n",
              "      <td>0.825502</td>\n",
              "      <td>0.846088</td>\n",
              "      <td>0.010293</td>\n",
              "      <td>RandomForestClassifierDF</td>\n",
              "      <td>8</td>\n",
              "      <td>500</td>\n",
              "    </tr>\n",
              "    <tr>\n",
              "      <th>1</th>\n",
              "      <td>0.825480</td>\n",
              "      <td>0.845925</td>\n",
              "      <td>0.010223</td>\n",
              "      <td>RandomForestClassifierDF</td>\n",
              "      <td>8</td>\n",
              "      <td>200</td>\n",
              "    </tr>\n",
              "    <tr>\n",
              "      <th>2</th>\n",
              "      <td>0.821349</td>\n",
              "      <td>0.842705</td>\n",
              "      <td>0.010678</td>\n",
              "      <td>RandomForestClassifierDF</td>\n",
              "      <td>4</td>\n",
              "      <td>200</td>\n",
              "    </tr>\n",
              "    <tr>\n",
              "      <th>3</th>\n",
              "      <td>0.820969</td>\n",
              "      <td>0.842484</td>\n",
              "      <td>0.010758</td>\n",
              "      <td>RandomForestClassifierDF</td>\n",
              "      <td>4</td>\n",
              "      <td>500</td>\n",
              "    </tr>\n",
              "  </tbody>\n",
              "</table>\n",
              "</div>"
            ],
            "text/plain": [
              "     ranking_score   roc_auc  ... classifier             \n",
              "                        mean  ...  max_depth n_estimators\n",
              "rank                          ...                        \n",
              "0         0.825502  0.846088  ...          8          500\n",
              "1         0.825480  0.845925  ...          8          200\n",
              "2         0.821349  0.842705  ...          4          200\n",
              "3         0.820969  0.842484  ...          4          500\n",
              "\n",
              "[4 rows x 6 columns]"
            ]
          },
          "metadata": {},
          "execution_count": 24
        }
      ]
    },
    {
      "cell_type": "code",
      "metadata": {
        "id": "kwtMAfrN03NW"
      },
      "source": [
        "y_pred = clf_ranker.best_model_.predict(churn_sample_kept_features.features)\n",
        "y_prob = clf_ranker.best_model_.predict_proba(churn_sample_kept_features.features)[1]\n",
        "y_true = churn_sample_kept_features.target"
      ],
      "execution_count": 25,
      "outputs": []
    },
    {
      "cell_type": "code",
      "metadata": {
        "colab": {
          "base_uri": "https://localhost:8080/"
        },
        "id": "Gch4088942CA",
        "outputId": "0795aa2c-3311-49c8-8e1a-30ef2b7c69ad"
      },
      "source": [
        "print(classification_report(y_true, y_pred))"
      ],
      "execution_count": 36,
      "outputs": [
        {
          "output_type": "stream",
          "text": [
            "              precision    recall  f1-score   support\n",
            "\n",
            "           0       0.85      0.92      0.89      5174\n",
            "           1       0.72      0.57      0.63      1869\n",
            "\n",
            "    accuracy                           0.83      7043\n",
            "   macro avg       0.79      0.74      0.76      7043\n",
            "weighted avg       0.82      0.83      0.82      7043\n",
            "\n"
          ],
          "name": "stdout"
        }
      ]
    },
    {
      "cell_type": "code",
      "metadata": {
        "colab": {
          "base_uri": "https://localhost:8080/",
          "height": 296
        },
        "id": "Swjc8E215Bzz",
        "outputId": "7181b64c-736e-40af-9fcf-31545f27e35e"
      },
      "source": [
        "cf_matrix = confusion_matrix(y_true, y_pred)\n",
        "ConfusionMatrixDisplay(cf_matrix,display_labels=\"None\").plot()"
      ],
      "execution_count": 40,
      "outputs": [
        {
          "output_type": "execute_result",
          "data": {
            "text/plain": [
              "<sklearn.metrics._plot.confusion_matrix.ConfusionMatrixDisplay at 0x7f4fe9bfb790>"
            ]
          },
          "metadata": {},
          "execution_count": 40
        },
        {
          "output_type": "display_data",
          "data": {
            "image/png": "[encoded data removed]",
            "text/plain": [
              "<Figure size 432x288 with 2 Axes>"
            ]
          },
          "metadata": {
            "needs_background": "light"
          }
        }
      ]
    },
    {
      "cell_type": "code",
      "metadata": {
        "id": "gWn0-4Gb5bVB"
      },
      "source": [
        "prec, recall,s = precision_recall_curve(y_true, y_prob, pos_label=1)\n"
      ],
      "execution_count": 51,
      "outputs": []
    },
    {
      "cell_type": "code",
      "metadata": {
        "id": "i2KHhmfP6j0P"
      },
      "source": [
        "disp = PrecisionRecallDisplay(precision=prec, recall=recall,average_precision=\"None\", estimator_name=\"None\")"
      ],
      "execution_count": 56,
      "outputs": []
    },
    {
      "cell_type": "code",
      "metadata": {
        "colab": {
          "base_uri": "https://localhost:8080/",
          "height": 534
        },
        "id": "z75TTUKD8p0j",
        "outputId": "c1a8119c-b8d8-429d-8148-f020df75203d"
      },
      "source": [
        "disp.plot()"
      ],
      "execution_count": 57,
      "outputs": [
        {
          "output_type": "error",
          "ename": "ValueError",
          "evalue": "ignored",
          "traceback": [
            "\u001b[0;31m---------------------------------------------------------------------------\u001b[0m",
            "\u001b[0;31mValueError\u001b[0m                                Traceback (most recent call last)",
            "\u001b[0;32m<ipython-input-57-975122b97661>\u001b[0m in \u001b[0;36m<module>\u001b[0;34m\u001b[0m\n\u001b[0;32m----> 1\u001b[0;31m \u001b[0mdisp\u001b[0m\u001b[0;34m.\u001b[0m\u001b[0mplot\u001b[0m\u001b[0;34m(\u001b[0m\u001b[0;34m)\u001b[0m\u001b[0;34m\u001b[0m\u001b[0;34m\u001b[0m\u001b[0m\n\u001b[0m",
            "\u001b[0;32m/usr/local/lib/python3.7/dist-packages/sklearn/metrics/_plot/precision_recall_curve.py\u001b[0m in \u001b[0;36mplot\u001b[0;34m(self, ax, name, **kwargs)\u001b[0m\n\u001b[1;32m     81\u001b[0m         line_kwargs = {\n\u001b[1;32m     82\u001b[0m             \"label\": \"{} (AP = {:0.2f})\".format(name,\n\u001b[0;32m---> 83\u001b[0;31m                                                 self.average_precision),\n\u001b[0m\u001b[1;32m     84\u001b[0m             \u001b[0;34m\"drawstyle\"\u001b[0m\u001b[0;34m:\u001b[0m \u001b[0;34m\"steps-post\"\u001b[0m\u001b[0;34m\u001b[0m\u001b[0;34m\u001b[0m\u001b[0m\n\u001b[1;32m     85\u001b[0m         }\n",
            "\u001b[0;31mValueError\u001b[0m: Unknown format code 'f' for object of type 'str'"
          ]
        },
        {
          "output_type": "display_data",
          "data": {
            "image/png": "[encoded data removed]",
            "text/plain": [
              "<Figure size 432x288 with 1 Axes>"
            ]
          },
          "metadata": {
            "needs_background": "light"
          }
        }
      ]
    },
    {
      "cell_type": "code",
      "metadata": {
        "colab": {
          "base_uri": "https://localhost:8080/",
          "height": 298
        },
        "id": "Hdll3c9L81tf",
        "outputId": "02fdc536-2331-44fe-8e46-bbeac1027f69"
      },
      "source": [
        "metrics = []\n",
        "\n",
        "# use established crossfit which contains all splits and fitted models\n",
        "best_crossfit = clf_ranker.best_model_crossfit_\n",
        "for (train_index, test_index), model in zip(best_crossfit.splits(), best_crossfit.models()):\n",
        "    \n",
        "    # get required target outputs\n",
        "    y_true = churn_sample_kept_features.target[test_index]\n",
        "    y_prob = model.predict_proba(churn_sample_kept_features.features.iloc[test_index])[1]\n",
        "    y_pred = model.predict(churn_sample_kept_features.features.iloc[test_index])\n",
        "    \n",
        "    # calculate metrics\n",
        "    metrics.append(pd.Series({\n",
        "        'Accuracy': accuracy_score(y_true, y_pred),\n",
        "        'F1': f1_score(y_true, y_pred),\n",
        "        'Precision': precision_score(y_true, y_pred),\n",
        "        'Recall': recall_score(y_true, y_pred),\n",
        "        'AUC': roc_auc_score(y_true, y_prob)}))\n",
        "                   \n",
        "# collect required summaries and plot\n",
        "metrics_df = pd.DataFrame(metrics)\n",
        "fig, ax = plt.subplots()\n",
        "ax.bar(\n",
        "    metrics_df.columns,\n",
        "    metrics_df.mean(),\n",
        "    yerr=metrics_df.std(),\n",
        "    align='center',\n",
        "    ecolor='lime',\n",
        "    capsize=10,\n",
        "    color='lightgrey'\n",
        ")\n",
        "ax.set_ylabel('Metric +/- SD')\n",
        "ax.set_title('Summary of model performance')"
      ],
      "execution_count": 58,
      "outputs": [
        {
          "output_type": "execute_result",
          "data": {
            "text/plain": [
              "Text(0.5, 1.0, 'Summary of model performance')"
            ]
          },
          "metadata": {},
          "execution_count": 58
        },
        {
          "output_type": "display_data",
          "data": {
            "image/png": "[encoded data removed]",
            "text/plain": [
              "<Figure size 432x288 with 1 Axes>"
            ]
          },
          "metadata": {
            "needs_background": "light"
          }
        }
      ]
    },
    {
      "cell_type": "code",
      "metadata": {
        "colab": {
          "base_uri": "https://localhost:8080/",
          "height": 295
        },
        "id": "3CTRHQ3m91fW",
        "outputId": "019eb1b7-0971-4a56-c83f-b01f3948363a"
      },
      "source": [
        "# define plotting function\n",
        "def roc_plot(fpr, tpr, tpr_std, auc, auc_std):\n",
        "\n",
        "    fig, ax = plt.subplots()\n",
        "    ax.plot([0, 1], [0, 1], linestyle='--', lw=2, color='k', alpha=.8)\n",
        "    ax.plot(fpr, tpr, color='lime', label=r'Mean ROC (AUC = %0.2f $\\pm$ %0.2f)' % (auc, auc_std), lw=2, alpha=.8)\n",
        "    tpr_upper = np.minimum(tpr + tpr_std, 1)\n",
        "    tpr_lower = np.maximum(tpr - tpr_std, 0)\n",
        "    ax.fill_between(fpr, tpr_lower, tpr_upper, color='grey', alpha=.2, label=r'$\\pm$ 1 SD')\n",
        "    ax.set_xlabel('False Positive Rate')\n",
        "    ax.set_ylabel('True Positive Rate')\n",
        "    ax.set_title('ROC')\n",
        "    ax.legend(loc='lower right')\n",
        "    plt.show()\n",
        "    \n",
        "# some set-up\n",
        "tprs = []\n",
        "aucs = []\n",
        "mean_fpr = np.linspace(0, 1, 100)\n",
        "\n",
        "# use established crossfit which contains all splits and fitted models\n",
        "best_crossfit = clf_ranker.best_model_crossfit_\n",
        "for (train_index, test_index), model in zip(best_crossfit.splits(), best_crossfit.models()):\n",
        "    \n",
        "    # predict probability for a splits test set using the fitted model\n",
        "    prediction = model.predict_proba(churn_sample_kept_features.features.iloc[test_index])\n",
        "    \n",
        "    # calculate roc curve and interpolate true positive rate\n",
        "    fpr, tpr, t = roc_curve(churn_sample_kept_features.target[test_index], prediction[1])\n",
        "    tprs.append(interp(mean_fpr, fpr, tpr))\n",
        "    \n",
        "    # calculate AUC\n",
        "    roc_auc = auc(fpr, tpr)\n",
        "    aucs.append(roc_auc)\n",
        "\n",
        "# collect required summaries\n",
        "auc_mean, auc_std = np.mean(aucs), np.std(aucs)\n",
        "mean_tpr, std_tpr = np.mean(tprs, axis=0), np.std(tprs, axis=0)\n",
        "\n",
        "# create plot\n",
        "roc_plot(mean_fpr, mean_tpr, std_tpr, auc_mean, auc_std)\n"
      ],
      "execution_count": 59,
      "outputs": [
        {
          "output_type": "display_data",
          "data": {
            "image/png": "[encoded data removed]",
            "text/plain": [
              "<Figure size 432x288 with 1 Axes>"
            ]
          },
          "metadata": {
            "needs_background": "light"
          }
        }
      ]
    },
    {
      "cell_type": "code",
      "metadata": {
        "id": "QRsZ3XRl9-Tx"
      },
      "source": [
        ""
      ],
      "execution_count": null,
      "outputs": []
    }
  ]
}